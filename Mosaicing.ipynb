{
  "nbformat": 4,
  "nbformat_minor": 0,
  "metadata": {
    "colab": {
      "name": "Mosaicing",
      "provenance": [],
      "collapsed_sections": []
    },
    "kernelspec": {
      "name": "python3",
      "display_name": "Python 3"
    }
  },
  "cells": [
    {
      "cell_type": "code",
      "metadata": {
        "id": "vg63drfgb2IQ"
      },
      "source": [
        "import cv2\n",
        "import glob as glob"
      ],
      "execution_count": null,
      "outputs": []
    },
    {
      "cell_type": "code",
      "metadata": {
        "id": "oZRULw0LphGM",
        "colab": {
          "base_uri": "https://localhost:8080/"
        },
        "outputId": "32f37c78-4da2-455d-8b16-7400c233a294"
      },
      "source": [
        "from google.colab import drive\n",
        "drive.mount('/content/drive')"
      ],
      "execution_count": null,
      "outputs": [
        {
          "output_type": "stream",
          "text": [
            "Mounted at /content/drive\n"
          ],
          "name": "stdout"
        }
      ]
    },
    {
      "cell_type": "code",
      "metadata": {
        "id": "MvCwYpibJtMI"
      },
      "source": [
        "import numpy.matlib\n",
        "import numpy as np\n",
        "from math import ceil\n",
        "import math\n",
        "from math import log10, sqrt\n",
        "from scipy.signal import convolve2d\n",
        "filter1=[[0,0.25,0],[0.25,1,0.25],[0,0.25,0]]\n",
        "filter2=[[0.25,0.5,0.25],[0.5,1,0.5],[0.25,0.5,0.25]]"
      ],
      "execution_count": null,
      "outputs": []
    },
    {
      "cell_type": "code",
      "metadata": {
        "id": "j0kngqRYqx0k"
      },
      "source": [
        "images=[cv2.imread(img) for img in glob.glob(r\"/content/drive/MyDrive/kodak/*.png\")]\n",
        "psnr=[]\n",
        "for index,i in enumerate(images):\n",
        "  images[index]=cv2.cvtColor(i,cv2.COLOR_BGR2RGB)\n",
        "import matplotlib.pyplot as plt\n",
        "%matplotlib inline \n",
        "for i,img in enumerate(images):\n",
        " \n",
        "  m,n,p=images[i].shape\n",
        "  red=[[1,0],[0,0]]\n",
        "  blue=[[0,0],[0,1]]\n",
        "  green=[[0,1],[1,0]]\n",
        "  red=np.matlib.repmat(red,ceil(m/2),ceil(n/2))\n",
        "  green=np.matlib.repmat(green,ceil(m/2),ceil(n/2))\n",
        "  blue=np.matlib.repmat(blue,ceil(m/2),ceil(n/2))\n",
        "  red_channel=red*images[i][:,:,0]\n",
        "  green_channel=green*images[i][:,:,1]\n",
        "  blue_channel=blue*images[i][:,:,2]\n",
        "  output=red_channel+green_channel+blue_channel\n",
        "  \n",
        "  green_filter=convolve2d(green_channel,filter1,mode=\"same\")\n",
        "  red_filter1=convolve2d(red_channel,filter2,mode=\"same\")\n",
        "  blue_filter1=convolve2d(blue_channel,filter2,mode=\"same\")\n",
        "  out=np.zeros((m,n,p))\n",
        "  out[:,:,0]=red_filter1\n",
        "  out[:,:,1]=green_filter\n",
        "  out[:,:,2]=blue_filter1\n",
        "    \n",
        "  mse = np.mean((images[i] - out) ** 2)\n",
        "  max_pixel = 255.0\n",
        "  val = 20 * log10(max_pixel / sqrt(mse))\n",
        "  psnr.append(val)"
      ],
      "execution_count": null,
      "outputs": []
    },
    {
      "cell_type": "code",
      "metadata": {
        "id": "5PuNp9bTrTni",
        "colab": {
          "base_uri": "https://localhost:8080/"
        },
        "outputId": "c310d5e3-9ab2-4cb3-b254-c457d32088ff"
      },
      "source": [
        "print(psnr)    "
      ],
      "execution_count": null,
      "outputs": [
        {
          "output_type": "stream",
          "text": [
            "[26.042531339295373, 32.6374443848128, 33.026138545226985, 32.13417653447776, 27.42855886317694, 26.488959880397577, 31.692880406215764, 28.970976079687855, 32.438869489506, 31.785395878005374, 23.61256406112051, 23.864292260274294, 30.550941058812924, 32.16705684911927, 30.742531305380933, 27.732746339231305, 28.84718518895481, 27.840536776165045, 31.395535685882706, 30.035967702257963, 30.284851416067244, 34.02300971281458, 28.16925426139404, 26.215489932784465]\n"
          ],
          "name": "stdout"
        }
      ]
    }
  ]
}